{
  "nbformat": 4,
  "nbformat_minor": 0,
  "metadata": {
    "colab": {
      "provenance": []
    },
    "kernelspec": {
      "name": "python3",
      "display_name": "Python 3"
    },
    "language_info": {
      "name": "python"
    }
  },
  "cells": [
    {
      "cell_type": "markdown",
      "source": [
        "# Parameter, dan scope pada function\n",
        "Dalam pemrograman, function adalah blok kode yang dirancang untuk melakukan tugas tertentu dan dapat digunakan berulang kali. Memahami parameter, return value, dan scope sangat penting karena berkaitan langsung dengan bagaimana data diproses dalam fungsi."
      ],
      "metadata": {
        "id": "GT6SByvXwtDs"
      }
    },
    {
      "cell_type": "markdown",
      "source": [
        "## Parameter\n",
        "**Definisi**:\n",
        "\n",
        "Parameter adalah variabel yang didefinisikan dalam deklarasi fungsi dan digunakan untuk menerima input saat fungsi dipanggil.\n",
        "\n",
        "Struktur Penulisan:\n",
        "\n",
        "\n",
        "```\n",
        "def nama_fungsi(parameter1, parameter2):\n",
        "    # kode\n",
        "```"
      ],
      "metadata": {
        "id": "WS30x3Clw1Wy"
      }
    },
    {
      "cell_type": "code",
      "execution_count": null,
      "metadata": {
        "colab": {
          "base_uri": "https://localhost:8080/"
        },
        "id": "b9QBkGsqwsXu",
        "outputId": "d33476ba-042a-4fa4-f1c5-56450e859aa6"
      },
      "outputs": [
        {
          "output_type": "stream",
          "name": "stdout",
          "text": [
            "22.03856749311295\n"
          ]
        }
      ],
      "source": [
        "#Contoh 1: Menghitung indeks massa tubuh (BMI)\n",
        "def hitung_bmi(berat, tinggi):\n",
        "  bmi = berat / (tinggi ** 2)\n",
        "  return bmi\n",
        "\n",
        "# Pemanggilan fungsi\n",
        "print(hitung_bmi(60, 1.65))\n"
      ]
    },
    {
      "cell_type": "markdown",
      "source": [
        "## Return Value\n",
        "**Definisi**:\n",
        "\n",
        "Return value adalah nilai yang dikembalikan oleh fungsi setelah selesai dieksekusi. Return memungkinkan hasil fungsi digunakan kembali.\n",
        "\n",
        "Struktur Penulisan:\n",
        "\n",
        "\n",
        "```\n",
        "def nama_fungsi(...):\n",
        "    # kode\n",
        "    return nilai\n",
        "```\n",
        "\n"
      ],
      "metadata": {
        "id": "PfYZGkGb4pGT"
      }
    },
    {
      "cell_type": "code",
      "source": [
        "#Contoh: Menghitung konsentrasi molar\n",
        "\n",
        "def hitung_molaritas(mol, volume_liter):\n",
        "    molaritas = mol / volume_liter\n",
        "    return molaritas\n",
        "\n",
        "hasil = hitung_molaritas(0.5, 0.25)\n",
        "print(\"Molaritas =\", hasil, \"mol/L\")"
      ],
      "metadata": {
        "id": "70yOSPCR466H"
      },
      "execution_count": null,
      "outputs": []
    },
    {
      "cell_type": "markdown",
      "source": [
        "## Scope pada fungsi\n",
        "**Definisi**:\n",
        "\n",
        "Scope menentukan di mana variabel dapat diakses. Terdapat dua jenis:\n",
        "\n",
        "1. Global Scope: variabel di luar fungsi, bisa diakses di manapun.\n",
        "\n",
        "\n",
        "2. Local Scope: variabel di dalam fungsi, hanya bisa diakses dalam fungsi itu saja."
      ],
      "metadata": {
        "id": "QvNcyv0zw_W-"
      }
    },
    {
      "cell_type": "code",
      "source": [
        "#Contoh 1:\n",
        "\n",
        "# Variabel global\n",
        "nama = \"Sel Biologi\"\n",
        "\n",
        "def tampilkan_nama():\n",
        "    # Variabel lokal\n",
        "    pesan = \"Selamat datang di kelas\"\n",
        "    print(pesan, nama)\n",
        "\n",
        "tampilkan_nama()\n",
        "            # print(pesan)  # Error, karena pesan hanya ada di dalam fungsi"
      ],
      "metadata": {
        "colab": {
          "base_uri": "https://localhost:8080/"
        },
        "id": "DoMYlF5e3QPO",
        "outputId": "82b201b8-30b5-4aef-b2c1-b8b6ce136413"
      },
      "execution_count": null,
      "outputs": [
        {
          "output_type": "stream",
          "name": "stdout",
          "text": [
            "Selamat datang di kelas Sel Biologi\n"
          ]
        }
      ]
    },
    {
      "cell_type": "code",
      "source": [
        "#Contoh 2: Menghitung pH Larutan Asam\n",
        "import math\n",
        "\n",
        "def hitung_pH(konsentrasi_H):\n",
        "    return -math.log10(konsentrasi_H)\n",
        "\n",
        "print(\"pH larutan:\", hitung_pH(1e-3))"
      ],
      "metadata": {
        "colab": {
          "base_uri": "https://localhost:8080/"
        },
        "id": "EfV2ctwq0h3n",
        "outputId": "af1551ce-d688-49d0-e7a4-f13c718f9481"
      },
      "execution_count": null,
      "outputs": [
        {
          "output_type": "stream",
          "name": "stdout",
          "text": [
            "pH larutan: 3.0\n"
          ]
        }
      ]
    },
    {
      "cell_type": "code",
      "source": [
        "#Contoh 3: Menghitung Laju Pertumbuhan Bakteri\n",
        "def laju_pertumbuhan(N0, r, t):\n",
        "    # N = N0 * e^(rt)\n",
        "    import math\n",
        "    N = N0 * math.exp(r * t)\n",
        "    return N\n",
        "\n",
        "hasil = laju_pertumbuhan(100, 0.02, 24)\n",
        "print(\"Jumlah bakteri setelah 24 jam:\", hasil)"
      ],
      "metadata": {
        "colab": {
          "base_uri": "https://localhost:8080/"
        },
        "id": "RlTAFpbx14ur",
        "outputId": "fdc35068-01c9-4378-b148-a82dbddd213f"
      },
      "execution_count": null,
      "outputs": [
        {
          "output_type": "stream",
          "name": "stdout",
          "text": [
            "Jumlah bakteri setelah 24 jam: 161.60744021928934\n"
          ]
        }
      ]
    },
    {
      "cell_type": "markdown",
      "source": [
        "## **Tugas** / Latihan\n",
        "\n",
        "1. Buat fungsi yang menghitung energi Gibbs:\n",
        "ΔG = ΔH - TΔS\n",
        "(Input: ΔH, T, ΔS; Output: ΔG)\n",
        "\n",
        "\n",
        "2. Buat fungsi untuk menghitung kadar hemoglobin berdasarkan nilai absorbansi dan panjang gelombang tertentu.\n"
      ],
      "metadata": {
        "id": "jCDNNY4t5Y44"
      }
    }
  ]
}