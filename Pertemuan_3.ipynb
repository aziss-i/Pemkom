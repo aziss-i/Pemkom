{
  "nbformat": 4,
  "nbformat_minor": 0,
  "metadata": {
    "colab": {
      "provenance": []
    },
    "kernelspec": {
      "name": "python3",
      "display_name": "Python 3"
    },
    "language_info": {
      "name": "python"
    }
  },
  "cells": [
    {
      "cell_type": "markdown",
      "source": [
        "# FUNGSI\n",
        "**Fungsi** adalah **blok kode** yang dirancang untuk melakukan tugas tertentu.\n",
        "\n",
        "Kegunaan fungsi:\n",
        "* Menghindari pengulangan kode.\n",
        "* Membuat program lebih rapi.\n",
        "* Memudahkan perbaikan dan pengembangan program.\n",
        "\n",
        "**Contoh**"
      ],
      "metadata": {
        "id": "PT_GjLTnsuNN"
      }
    },
    {
      "cell_type": "code",
      "execution_count": null,
      "metadata": {
        "id": "BYhN0CqIsOfG"
      },
      "outputs": [],
      "source": [
        "def salam():\n",
        "    print(\"Halo guys, selamat datang di channel saya\")"
      ]
    },
    {
      "cell_type": "code",
      "source": [
        "salam()"
      ],
      "metadata": {
        "colab": {
          "base_uri": "https://localhost:8080/"
        },
        "id": "sh1dnhU9tTsS",
        "outputId": "b73d25da-e858-4dc7-b045-f838dc0fd208"
      },
      "execution_count": null,
      "outputs": [
        {
          "output_type": "stream",
          "name": "stdout",
          "text": [
            "Halo guys, selamat datang di channel saya\n"
          ]
        }
      ]
    },
    {
      "cell_type": "markdown",
      "source": [
        "## Struktur Dasar Fungsi\n",
        "\n",
        "\n",
        "```\n",
        "def nama_fungsi(parameter1, parameter2, ...):\n",
        "    # blok kode\n",
        "    return nilai\n",
        "\n",
        "```\n",
        "Keterangan:\n",
        "\n",
        "* **def**: Kata kunci untuk mendefinisikan fungsi.\n",
        "\n",
        "* **nama_fungsi**: Nama fungsi (sebaiknya deskriptif).\n",
        "\n",
        "* **parameter**: Variabel input ke dalam fungsi (boleh kosong).\n",
        "\n",
        "* **return**: Mengembalikan nilai.\n"
      ],
      "metadata": {
        "id": "Ik_QN-MltkFP"
      }
    },
    {
      "cell_type": "code",
      "source": [
        "#Contoh 1: Fungsi dengan Parameter\n",
        "def luas_lingkaran(jari_jari):\n",
        "    pi = 3.14159\n",
        "    luas = pi * jari_jari ** 2\n",
        "    return luas\n",
        "jari_jari = 5\n",
        "print(f\"Luas lingkaran dengan jari jari {jari_jari} adalah {luas_lingkaran(5)}\")\n",
        "\n"
      ],
      "metadata": {
        "colab": {
          "base_uri": "https://localhost:8080/"
        },
        "id": "dAH_U741tsKn",
        "outputId": "6ff0f7ac-1ff8-4de0-b621-018a3a53d08e"
      },
      "execution_count": null,
      "outputs": [
        {
          "output_type": "stream",
          "name": "stdout",
          "text": [
            "Luas lingkaran dengan jari jari 5 adalah 78.53975\n"
          ]
        }
      ]
    },
    {
      "cell_type": "code",
      "source": [
        "#Contoh 2: menghitung konsentrasi molaritas\n",
        "def molaritas(mol, volume_liter):\n",
        "    return mol / volume_liter\n",
        "\n",
        "hasil = molaritas(0.5, 1)\n",
        "print(f\"Molaritas = {hasil} M\")\n",
        "\n"
      ],
      "metadata": {
        "colab": {
          "base_uri": "https://localhost:8080/"
        },
        "id": "fS56BSsAu3C7",
        "outputId": "9cfd7728-89c3-41d5-a912-2529d4590520"
      },
      "execution_count": null,
      "outputs": [
        {
          "output_type": "stream",
          "name": "stdout",
          "text": [
            "Molaritas = 0.5 M\n"
          ]
        }
      ]
    },
    {
      "cell_type": "code",
      "source": [
        "#contoh 3:cetak identitas\n",
        "def cetak_identitas(nama, jurusan):\n",
        "    print(f\"Nama: {nama}\")\n",
        "    print(f\"Jurusan: {jurusan}\")\n",
        "\n",
        "while(True):\n",
        "  nama = input(\"masukkan nama (ketik 'stop' untuk keluar):\")\n",
        "  if nama.lower() == \"stop\":\n",
        "    break\n",
        "  jurusan = input(\"masukkan nama jurusan:\")\n",
        "  cetak_identitas(nama, jurusan)"
      ],
      "metadata": {
        "colab": {
          "base_uri": "https://localhost:8080/"
        },
        "id": "eNHIagkZxdE0",
        "outputId": "99606c36-d849-456b-a31e-082cf5e44c91"
      },
      "execution_count": null,
      "outputs": [
        {
          "name": "stdout",
          "output_type": "stream",
          "text": [
            "masukkan nama (ketik 'stop' untuk keluar)::kiki\n",
            "masukkan nama jurusan:mtk\n",
            "Nama: kiki\n",
            "Jurusan: mtk\n",
            "masukkan nama (ketik 'stop' untuk keluar)::stop\n"
          ]
        }
      ]
    },
    {
      "cell_type": "code",
      "source": [
        "#Contoh: Parameter Default\n",
        "def salam(nama=\"Mahasiswa\"):\n",
        "    print(f\"Halo, {nama}!\")\n",
        "\n",
        "salam()\n",
        "salam(\"Miumiu\")\n"
      ],
      "metadata": {
        "colab": {
          "base_uri": "https://localhost:8080/"
        },
        "id": "XNVSKVPCy1kE",
        "outputId": "2fc97246-c593-4ded-ba21-43d5771f26ab"
      },
      "execution_count": null,
      "outputs": [
        {
          "output_type": "stream",
          "name": "stdout",
          "text": [
            "Halo, Mahasiswa!\n",
            "Halo, Miumiu!\n"
          ]
        }
      ]
    },
    {
      "cell_type": "markdown",
      "source": [
        "## Apakah penting mempelajari fungsi?\n",
        "sangat penting karena Di biologi dan kimia, banyak proses yang berulang:\n",
        "\n",
        "* Menghitung konsentrasi.\n",
        "\n",
        "* Menghitung energi reaksi.\n",
        "\n",
        "* Analisis data eksperimen.\n",
        "\n",
        "Dengan fungsi, perhitungan menjadi cepat, konsisten, dan bisa dipakai ulang untuk dataset besar.\n"
      ],
      "metadata": {
        "id": "EBTo077UzbS4"
      }
    },
    {
      "cell_type": "code",
      "source": [
        "# Menghitung laju reaksi\n",
        "def laju_reaksi(delta_konsentrasi, delta_waktu):\n",
        "    return delta_konsentrasi / delta_waktu\n",
        "\n",
        "print(laju_reaksi(0.02, 5))"
      ],
      "metadata": {
        "colab": {
          "base_uri": "https://localhost:8080/"
        },
        "id": "5e9R0cp7zrkO",
        "outputId": "ca0a06fa-93fc-4379-d546-ba5fde17cf48"
      },
      "execution_count": null,
      "outputs": [
        {
          "output_type": "stream",
          "name": "stdout",
          "text": [
            "0.004\n"
          ]
        }
      ]
    },
    {
      "cell_type": "code",
      "source": [
        "# Menghitung pH larutan\n",
        "import math\n",
        "\n",
        "def hitung_pH(H_plus):\n",
        "    return -math.log10(H_plus)\n",
        "\n",
        "print(hitung_pH(1e-4))\n"
      ],
      "metadata": {
        "colab": {
          "base_uri": "https://localhost:8080/"
        },
        "id": "xZEmozWZzs8z",
        "outputId": "5ff7c0a7-9ba9-41bc-c253-7af5f5e431bb"
      },
      "execution_count": null,
      "outputs": [
        {
          "output_type": "stream",
          "name": "stdout",
          "text": [
            "4.0\n"
          ]
        }
      ]
    },
    {
      "cell_type": "code",
      "source": [
        "# Menghitung BMI\n",
        "def bmi(berat, tinggi):\n",
        "    return berat / (tinggi ** 2)\n",
        "\n",
        "print(bmi(60, 1.65))\n"
      ],
      "metadata": {
        "colab": {
          "base_uri": "https://localhost:8080/"
        },
        "id": "lNvJlIRB0AJi",
        "outputId": "78bbfbfe-cdaa-4e57-84f4-48acd166f3e6"
      },
      "execution_count": null,
      "outputs": [
        {
          "output_type": "stream",
          "name": "stdout",
          "text": [
            "22.03856749311295\n"
          ]
        }
      ]
    },
    {
      "cell_type": "markdown",
      "source": [
        "#Latihan\n",
        "1. Buat fungsi untuk menghitung volume kubus.\n",
        "\n",
        "2. Buat fungsi untuk menghitung konsentrasi ppm (parts per million).\n",
        "\n",
        "3. Buat fungsi untuk menghitung kecepatan reaksi berdasarkan konsentrasi awal dan akhir dalam waktu tertentu.\n",
        "\n",
        "4. Buat fungsi yang menerima nama dan umur, lalu mencetak kalimat \"Halo, [nama], umur kamu [umur] tahun.\"\n"
      ],
      "metadata": {
        "id": "F9STQLRl0T-T"
      }
    }
  ]
}