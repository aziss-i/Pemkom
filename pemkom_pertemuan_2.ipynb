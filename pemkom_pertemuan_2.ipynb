{
  "nbformat": 4,
  "nbformat_minor": 0,
  "metadata": {
    "colab": {
      "provenance": []
    },
    "kernelspec": {
      "name": "python3",
      "display_name": "Python 3"
    },
    "language_info": {
      "name": "python"
    }
  },
  "cells": [
    {
      "cell_type": "markdown",
      "source": [
        "# Ulas pertemuan 2\n",
        "Buatlah program yang meminta user untuk mengisi biodata ( berisi\n",
        "* nama,\n",
        "* alamat,\n",
        "* tempat tanggal lahir,\n",
        "* usia,\n",
        "* agama,\n",
        "* nomor telpon dan\n",
        "* hobi\n",
        "\n",
        ")"
      ],
      "metadata": {
        "id": "3efZYTx43fDs"
      }
    },
    {
      "cell_type": "markdown",
      "source": [
        "## Contoh"
      ],
      "metadata": {
        "id": "Wckif-BSKCmx"
      }
    },
    {
      "cell_type": "code",
      "source": [
        "#Biodata\n",
        "nama = input(\"masukkan nama anda: \")\n",
        "alamat = input(\"masukkan alamat anda: \")\n",
        "ttl = input(\"masukkan tempat tanggal lahir anda: \")\n",
        "usia = int(input(\"masukkan usia anda: \"))\n",
        "agama = input(\"masukkan agama anda: \")\n",
        "no_tlp = input(\"masukkan nomor telpon anda: \")\n",
        "hobi = input(\"masukkan hobi anda: \")\n",
        "print(f\"\\n **Biodata**\\n Nama: {nama}\\n Alamat: {alamat}\\n Tempat, Tanggal Lahir: {ttl}\\n Usia: {usia}\\n Agama: {agama}\\n Nomor Telepon: {no_tlp}\\n Hobi: {hobi}\")"
      ],
      "metadata": {
        "id": "p9jYobOG4IQJ"
      },
      "execution_count": null,
      "outputs": []
    },
    {
      "cell_type": "markdown",
      "source": [
        "# Pertemuan 2\n",
        "Pada pertemuan ini kita akan mempelajari\n",
        "* Kondisi (if - else)\n",
        "* Perulangan (for)\n",
        "* Perulangan (while)"
      ],
      "metadata": {
        "id": "-lzWkZV_azVK"
      }
    },
    {
      "cell_type": "markdown",
      "source": [
        "## Kondisi if"
      ],
      "metadata": {
        "id": "yMTW1rYDbCfj"
      }
    },
    {
      "cell_type": "code",
      "execution_count": null,
      "metadata": {
        "id": "F464S_dXarLb"
      },
      "outputs": [],
      "source": [
        "nilai = int(input(\"masukkan nilai: \"))\n",
        "if nilai >= 80:\n",
        "  print(\"anda lulus\")\n",
        "  print(\"kamu hebat, pertahankan ya!\")"
      ]
    },
    {
      "cell_type": "markdown",
      "source": [
        "## Kondisi if-else"
      ],
      "metadata": {
        "id": "57gT_gsKLB0O"
      }
    },
    {
      "cell_type": "code",
      "source": [
        "nilai = int(input(\"masukkan nilai: \"))\n",
        "if nilai >= 80:\n",
        "  print(\"anda lulus\")\n",
        "else:\n",
        "  print(\"sory ye sory yee\")"
      ],
      "metadata": {
        "id": "H4xMs5cQKpkW"
      },
      "execution_count": null,
      "outputs": []
    },
    {
      "cell_type": "markdown",
      "source": [
        "## Kondisi if-elif-else"
      ],
      "metadata": {
        "id": "Ot3yECa5LD_g"
      }
    },
    {
      "cell_type": "code",
      "source": [
        "nilai = int(input(\"masukkan nilai: \"))\n",
        "if nilai >=96:\n",
        "  print(\"nilai anda sempurna\")\n",
        "elif nilai >=70 and nilai <=95:\n",
        "  print(\"anda mendapat nilai cukup bagus\")\n",
        "else:\n",
        "  print(\"ngeyel sih, makanya nilainya kecil\")"
      ],
      "metadata": {
        "id": "u2jbCIbgK7kI"
      },
      "execution_count": null,
      "outputs": []
    },
    {
      "cell_type": "markdown",
      "source": [
        "### Latihan"
      ],
      "metadata": {
        "id": "MpW-fAMmLwem"
      }
    },
    {
      "cell_type": "code",
      "source": [
        "password = input(\"masukkan password: \")\n",
        "if password == \"biologi\" or password == \"cantik\":\n",
        "  print(\"silahkan masuk kelas\")\n",
        "else:\n",
        "  print(\"sono pergi sono wkwkwkwkwk\")"
      ],
      "metadata": {
        "id": "9gS4RdFnLx_u"
      },
      "execution_count": null,
      "outputs": []
    },
    {
      "cell_type": "markdown",
      "source": [
        "## Kondisi bersarang"
      ],
      "metadata": {
        "id": "FHT7_WRxMutt"
      }
    },
    {
      "cell_type": "code",
      "source": [
        "gender = input(\"masukkan jenis kelamin anda: \")\n",
        "usia = int(input(\"masukkan usia anda: \"))\n",
        "\n",
        "if gender == \"pria\" or gender == \"laki-laki\":\n",
        "  if usia>=25:\n",
        "    print(\"anda pria boleh menikah\")\n",
        "  else:\n",
        "    print(\"masih ingusan, sekolah dulu aja ya, kamu masih dibawah umur\")\n",
        "elif gender == \"wanita\" or gender == \"perempuan\":\n",
        "  if usia>=20:\n",
        "    print(\"anda wanita boleh menikah\")\n",
        "  else:\n",
        "    print(\"sekolah yang bener, kamu masih bocil\")\n",
        "else:\n",
        "  print(\"kamu gak jelas. hey kaum pelangi pergi dari dunia ini\")"
      ],
      "metadata": {
        "id": "pjxekjQ-MzEi"
      },
      "execution_count": null,
      "outputs": []
    },
    {
      "cell_type": "markdown",
      "source": [
        "### latihan\n"
      ],
      "metadata": {
        "id": "WgImOLH0OQoK"
      }
    },
    {
      "cell_type": "code",
      "source": [
        "# Program mengecek bilangan bulat positif, negatif atau nol\n",
        "bilangan = int(input(\"masukkan suatu angka bulat: \"))\n",
        "if bil > 0:\n",
        "    if bil % 2 == 0:\n",
        "        print(\"Angka {} bernilai Positif Genap\".format(bil))\n",
        "    else:\n",
        "        print(\"Angka {} bernilai Positif Ganjil\".format(bil))\n",
        "elif bil < 0:\n",
        "    if bil % 2 == 0:\n",
        "        print(\"Angka {} bernilai Negatif Genap\".format(bil))\n",
        "    else:\n",
        "        print(\"Angka {} bernilai Negatif Ganjil\".format(bil))\n",
        "else:\n",
        "    print(\"NOL\")"
      ],
      "metadata": {
        "id": "nFVZMzYtOR2m"
      },
      "execution_count": null,
      "outputs": []
    },
    {
      "cell_type": "markdown",
      "source": [
        "## Perulangan for\n",
        "perulangan for disebut juga perulangan terhitung (counted loof)"
      ],
      "metadata": {
        "id": "wki5NCkDOtOr"
      }
    },
    {
      "cell_type": "code",
      "source": [
        "for i in range(5):\n",
        "  print(f\"iterasi ke-{i}\")"
      ],
      "metadata": {
        "id": "hELgrFM8OyB6"
      },
      "execution_count": null,
      "outputs": []
    },
    {
      "cell_type": "code",
      "source": [
        "for i in range(5):\n",
        "  print(f\"iterasi ke-{i+1}\")"
      ],
      "metadata": {
        "id": "tCixVojgPR3N"
      },
      "execution_count": null,
      "outputs": []
    },
    {
      "cell_type": "code",
      "source": [
        "\n",
        "ikan = ['nemo','nila','paus','mujaer']\n",
        "for i in ikan:\n",
        "  print(i)"
      ],
      "metadata": {
        "id": "wIcxvr4UPWd9",
        "colab": {
          "base_uri": "https://localhost:8080/"
        },
        "outputId": "83250e80-2688-4485-e4f7-510684247b82"
      },
      "execution_count": null,
      "outputs": [
        {
          "output_type": "stream",
          "name": "stdout",
          "text": [
            "nemo\n",
            "nila\n",
            "paus\n",
            "mujaer\n"
          ]
        }
      ]
    },
    {
      "cell_type": "code",
      "source": [
        "ikan[1]"
      ],
      "metadata": {
        "colab": {
          "base_uri": "https://localhost:8080/",
          "height": 35
        },
        "id": "PuQfMUfl2ZO7",
        "outputId": "3d9dbc09-c807-4a5d-9f5d-a53fa64d6049"
      },
      "execution_count": null,
      "outputs": [
        {
          "output_type": "execute_result",
          "data": {
            "text/plain": [
              "'nila'"
            ],
            "application/vnd.google.colaboratory.intrinsic+json": {
              "type": "string"
            }
          },
          "metadata": {},
          "execution_count": 3
        }
      ]
    },
    {
      "cell_type": "code",
      "source": [
        "from re import I\n",
        "ikan = ('nemo','nila','paus','mujaer')\n",
        "for i in ikan:\n",
        "  print(i)"
      ],
      "metadata": {
        "id": "ZxaOpQ3lPinn"
      },
      "execution_count": null,
      "outputs": []
    },
    {
      "cell_type": "code",
      "source": [
        "from re import I\n",
        "ikan = {'nemo','nila','paus','mujaer'}\n",
        "for i in ikan:\n",
        "  print(i)"
      ],
      "metadata": {
        "id": "BdA9hhznPun_"
      },
      "execution_count": null,
      "outputs": []
    },
    {
      "cell_type": "code",
      "source": [
        "kata = 'python'\n",
        "for huruf in kata:\n",
        "  print(huruf)"
      ],
      "metadata": {
        "id": "KIW1tzC7PyoR"
      },
      "execution_count": null,
      "outputs": []
    },
    {
      "cell_type": "markdown",
      "source": [
        "## Latihan 1:\n",
        "Analisis Frekuensi Nukleotida dari Sekuens DNA Ganda\n",
        "Diberikan dua sekuens DNA berikut:\n",
        "\n",
        "```\n",
        "dna1 = \"GTGCTAGCTAGCTTACGATCG\"\n",
        "dna2 = \"GCTAGCTTACGATCGTACGTA\"\n",
        "```\n",
        "Yang harus dilakukan:\n",
        "Buat program menggunakan for loop untuk\n",
        "\n",
        "1.   menghitung jumlah setiap nukleotida (A, T, C, G) dari kedua sekuens DNA.\n",
        "2. Cetak jumlah total masing-masing nukleotida setelah digabungkan.\n",
        "3. Hitung persentase setiap nukleotida dari total nukleotida yang ada."
      ],
      "metadata": {
        "id": "Asb39-A4_yyv"
      }
    },
    {
      "cell_type": "code",
      "source": [
        "# Sekuens DNA yang diberikan\n",
        "dna1 = \"GTGCTAGCTAGCTTACGATCG\"\n",
        "dna2 = \"GCTAGCTTACGATCGTACGTA\"\n",
        "\n",
        "# Menggabungkan kedua sekuens DNA\n",
        "dna_total = dna1 + dna2\n",
        "\n",
        "# Inisial awal dari sekuens DNA, misalkan kita namakan \"frekuensi\"\n",
        "frekuensi = {\"A\": 0, \"T\": 0, \"C\": 0, \"G\": 0}\n",
        "\n",
        "#1. Menghitung jumlah setiap nukleotida dari dna_total\n",
        "for nukleotida in dna_total:\n",
        "    if nukleotida in frekuensi:\n",
        "        frekuensi[nukleotida] += 1\n",
        "\n",
        "#2. Menampilkan jumlah total masing-masing nukleotida\n",
        "print(\"Jumlah setiap nukleotida:\")\n",
        "for nukleotida, jumlah in frekuensi.items():\n",
        "    print(f\"{nukleotida}: {jumlah}\")\n",
        "\n",
        "#3. Menghitung total nukleotida\n",
        "total_nukleotida = sum(frekuensi.values())\n",
        "\n",
        "# Menghitung dan mencetak persentase setiap nukleotida\n",
        "print(\"\\nPersentase setiap nukleotida:\")\n",
        "for nukleotida, jumlah in frekuensi.items():\n",
        "    persentase = (jumlah / total_nukleotida) * 100\n",
        "    print(f\"{nukleotida}: {persentase:.2f}%\")\n"
      ],
      "metadata": {
        "id": "rOcWo4scAb2B"
      },
      "execution_count": null,
      "outputs": []
    },
    {
      "cell_type": "markdown",
      "source": [
        "## Latihan 2:\n",
        "**Penghitungan Massa Molekul Relatif Senyawa**.\n",
        "\n",
        "Diberikan daftar senyawa kimia berikut dengan komposisi unsurnya:\n",
        "\n",
        "```\n",
        "senyawa = {\n",
        "    \"H2O\": {\"H\": 2, \"O\": 1},\n",
        "    \"C6H12O6\": {\"C\": 6, \"H\": 12, \"O\": 6},\n",
        "    \"NH3\": {\"N\": 1, \"H\": 3},\n",
        "    \"CO2\": {\"C\": 1, \"O\": 2}\n",
        "}\n",
        "\n",
        "massa_atom = {\"H\": 1.008, \"C\": 12.01, \"O\": 16.00, \"N\": 14.01}\n",
        "```\n",
        "Yang harus dilakukan:\n",
        "1. Buat program menggunakan perulangan for untuk menghitung massa molekul relatif dari setiap senyawa di atas.\n",
        "2. Cetak hasil perhitungannya."
      ],
      "metadata": {
        "id": "GKXp6s3gB2Jz"
      }
    },
    {
      "cell_type": "code",
      "source": [
        "# Data senyawa kimia\n",
        "senyawa = {\n",
        "    \"H2O\": {\"H\": 2, \"O\": 1},\n",
        "    \"C6H12O6\": {\"C\": 6, \"H\": 12, \"O\": 6},\n",
        "    \"NH3\": {\"N\": 1, \"H\": 3},\n",
        "    \"CO2\": {\"C\": 1, \"O\": 2}\n",
        "}\n",
        "\n",
        "# Massa atom setiap unsur\n",
        "massa_atom = {\"H\": 1.008, \"C\": 12.01, \"O\": 16.00, \"N\": 14.01}\n",
        "\n",
        "# Menghitung massa molekul relatif setiap senyawa\n",
        "massa_molekul = {}\n",
        "\n",
        "for nama_senyawa, komposisi in senyawa.items():\n",
        "    total_massa = 0\n",
        "    for unsur, jumlah in komposisi.items():\n",
        "        total_massa += jumlah * massa_atom[unsur]\n",
        "    massa_molekul[nama_senyawa] = total_massa\n",
        "\n",
        "# Menampilkan hasil perhitungan\n",
        "print(\"Massa Molekul Relatif Setiap Senyawa:\")\n",
        "for nama_senyawa, massa in massa_molekul.items():\n",
        "    print(f\"{nama_senyawa}: {massa:.3f} g/mol\")\n"
      ],
      "metadata": {
        "id": "uiX0AKLvCg8l"
      },
      "execution_count": null,
      "outputs": []
    },
    {
      "cell_type": "markdown",
      "source": [
        "## perulangan while\n",
        "Perulangan *while* digunakan untuk mengeksekusi blok kode selama kondisi yang diberikan bernilai True."
      ],
      "metadata": {
        "id": "s99kOuTLQJvp"
      }
    },
    {
      "cell_type": "code",
      "source": [
        "i = 1\n",
        "\n",
        "while i <= 5:\n",
        "    print(\"Angka ke-\", i)\n",
        "    i += 1"
      ],
      "metadata": {
        "id": "udTcFl6QP_xt"
      },
      "execution_count": null,
      "outputs": []
    },
    {
      "cell_type": "code",
      "source": [
        "angka = int(input(\"Masukkan angka (ketik 0 untuk berhenti): \"))\n",
        "\n",
        "while angka != 0:\n",
        "    print(\"Anda memasukkan:\", angka)\n",
        "    angka = int(input(\"Masukkan angka (ketik 0 untuk berhenti): \"))\n",
        "\n",
        "print(\"Program selesai.\")"
      ],
      "metadata": {
        "id": "OKJorOAGQt1S"
      },
      "execution_count": null,
      "outputs": []
    },
    {
      "cell_type": "code",
      "source": [
        "i = 1\n",
        "while i <= 10:\n",
        "    if i == 5:\n",
        "        print(\"Berhenti di angka\", i)\n",
        "        break\n",
        "    print(i)\n",
        "    i += 1"
      ],
      "metadata": {
        "id": "Uge-49M2Q40j"
      },
      "execution_count": null,
      "outputs": []
    },
    {
      "cell_type": "code",
      "source": [
        "i = 0\n",
        "while i <= 5:\n",
        "    i += 1\n",
        "    if i == 3:\n",
        "        print(\"Melewati angka\", i)\n",
        "        continue\n",
        "    print(i)"
      ],
      "metadata": {
        "id": "C1EdcGl5RAYL"
      },
      "execution_count": null,
      "outputs": []
    },
    {
      "cell_type": "markdown",
      "source": [
        "## Latihan 1:\n",
        "Diberikan sekuens DNA yang ingin dianalisis mutasinya. Mutasi dianggap terjadi jika nukleotida A berubah menjadi T.\n",
        "\n",
        "\n",
        "```\n",
        "dna = \"AGTACATAGATACAGGATAGTACATAG\"\n",
        "```\n",
        "Yang harus dilakukan:\n",
        "1. Buat program menggunakan while loop untuk menghitung berapa kali terjadi mutasi dari 'A' menjadi 'T'.\n",
        "\n",
        "2. Cetak jumlah total mutasi yang terjadi.\n"
      ],
      "metadata": {
        "id": "8oS0NRzuEBEI"
      }
    },
    {
      "cell_type": "code",
      "source": [
        "# Sekuens DNA yang diberikan\n",
        "dna = \"AGTACATAGATACAGGATAGTACATAG\"\n",
        "\n",
        "# Inisialisasi variabel\n",
        "mutasi_count = 0\n",
        "index = 0\n",
        "panjang_dna = len(dna)\n",
        "\n",
        "# Perulangan while untuk menghitung mutasi\n",
        "while index < panjang_dna - 1:\n",
        "    if dna[index] == 'A' and dna[index + 1] == 'T':\n",
        "        mutasi_count += 1\n",
        "    index += 1\n",
        "\n",
        "# Menampilkan hasil\n",
        "print(f\"Jumlah mutasi dari 'A' menjadi 'T': {mutasi_count}\")\n"
      ],
      "metadata": {
        "id": "dbPaeoKCD9vf"
      },
      "execution_count": null,
      "outputs": []
    },
    {
      "cell_type": "markdown",
      "source": [
        "## Latihan 2:\n",
        "Misalkan ada sebuah larutan dengan nilai pH awal = 7. Setiap kali kita menambahkan 0.1 mol/L asam, maka nilai pH akan berkurang sebesar 0.5. Pengurangan pH ini akan berlangsung hingga mencapai pH ≤ 3.\n",
        "1. Buat program menggunakan while loop untuk menghitung berapa kali asam harus ditambahkan agar pH menjadi ≤ 3.\n",
        "\n",
        "2. Cetak jumlah total penambahan asam yang diperlukan.\n",
        "\n"
      ],
      "metadata": {
        "id": "ID4Hp2JWERKE"
      }
    },
    {
      "cell_type": "code",
      "source": [
        "# Nilai pH awal\n",
        "pH = 7\n",
        "jumlah_tambahan_asam = 0\n",
        "\n",
        "# Perulangan while untuk menghitung jumlah penambahan asam\n",
        "while pH > 3:\n",
        "    pH -= 0.5\n",
        "    jumlah_tambahan_asam += 1\n",
        "\n",
        "# Menampilkan hasil\n",
        "print(f\"Jumlah penambahan asam yang diperlukan: {jumlah_tambahan_asam}\")\n"
      ],
      "metadata": {
        "id": "OzIwE1AgMN8n"
      },
      "execution_count": null,
      "outputs": []
    }
  ]
}