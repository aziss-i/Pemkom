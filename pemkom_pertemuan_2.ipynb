{
  "nbformat": 4,
  "nbformat_minor": 0,
  "metadata": {
    "colab": {
      "provenance": []
    },
    "kernelspec": {
      "name": "python3",
      "display_name": "Python 3"
    },
    "language_info": {
      "name": "python"
    }
  },
  "cells": [
    {
      "cell_type": "markdown",
      "source": [
        "# Ulas pertemuan 2\n",
        "Buatlah program yang meminta user untuk mengisi biodata ( berisi\n",
        "* nama,\n",
        "* alamat,\n",
        "* tempat tanggal lahir,\n",
        "* usia,\n",
        "* agama,\n",
        "* nomor telpon dan\n",
        "* hobi\n",
        "\n",
        ")"
      ],
      "metadata": {
        "id": "3efZYTx43fDs"
      }
    },
    {
      "cell_type": "markdown",
      "source": [
        "## Contoh"
      ],
      "metadata": {
        "id": "Wckif-BSKCmx"
      }
    },
    {
      "cell_type": "code",
      "source": [
        "#Biodata\n",
        "nama = input(\"masukkan nama anda: \")\n",
        "alamat = input(\"masukkan alamat anda: \")\n",
        "ttl = input(\"masukkan tempat tanggal lahir anda: \")\n",
        "usia = int(input(\"masukkan usia anda: \"))\n",
        "agama = input(\"masukkan agama anda: \")\n",
        "no_tlp = input(\"masukkan nomor telpon anda: \")\n",
        "hobi = input(\"masukkan hobi anda: \")\n",
        "print(f\"\\n **Biodata**\\n Nama: {nama}\\n Alamat: {alamat}\\n Tempat, Tanggal Lahir: {ttl}\\n Usia: {usia}\\n Agama: {agama}\\n Nomor Telepon: {no_tlp}\\n Hobi: {hobi}\")"
      ],
      "metadata": {
        "id": "p9jYobOG4IQJ"
      },
      "execution_count": null,
      "outputs": []
    },
    {
      "cell_type": "markdown",
      "source": [
        "# Pertemuan 3\n",
        "Pada pertemuan ini kita akan mempelajari\n",
        "* Kondisi (if - else)\n",
        "* Perulangan (for)\n",
        "* Perulangan (while)"
      ],
      "metadata": {
        "id": "-lzWkZV_azVK"
      }
    },
    {
      "cell_type": "markdown",
      "source": [
        "## Kondisi if"
      ],
      "metadata": {
        "id": "yMTW1rYDbCfj"
      }
    },
    {
      "cell_type": "code",
      "execution_count": null,
      "metadata": {
        "id": "F464S_dXarLb"
      },
      "outputs": [],
      "source": [
        "nilai = int(input(\"masukkan nilai: \"))\n",
        "if nilai >= 80:\n",
        "  print(\"anda lulus\")\n",
        "  print(\"kamu hebat, pertahankan ya!\")"
      ]
    },
    {
      "cell_type": "markdown",
      "source": [
        "## Kondisi if-else"
      ],
      "metadata": {
        "id": "57gT_gsKLB0O"
      }
    },
    {
      "cell_type": "code",
      "source": [
        "nilai = int(input(\"masukkan nilai: \"))\n",
        "if nilai >= 80:\n",
        "  print(\"anda lulus\")\n",
        "else:\n",
        "  print(\"sory ye sory yee\")"
      ],
      "metadata": {
        "id": "H4xMs5cQKpkW"
      },
      "execution_count": null,
      "outputs": []
    },
    {
      "cell_type": "markdown",
      "source": [
        "## Kondisi if-elif-else"
      ],
      "metadata": {
        "id": "Ot3yECa5LD_g"
      }
    },
    {
      "cell_type": "code",
      "source": [
        "nilai = int(input(\"masukkan nilai: \"))\n",
        "if nilai >=96:\n",
        "  print(\"nilai anda sempurna\")\n",
        "elif nilai >=70 and nilai <=95:\n",
        "  print(\"anda mendapat nilai cukup bagus\")\n",
        "else:\n",
        "  print(\"ngeyel sih, makanya nilainya kecil\")"
      ],
      "metadata": {
        "id": "u2jbCIbgK7kI"
      },
      "execution_count": null,
      "outputs": []
    },
    {
      "cell_type": "markdown",
      "source": [
        "### Latihan"
      ],
      "metadata": {
        "id": "MpW-fAMmLwem"
      }
    },
    {
      "cell_type": "code",
      "source": [
        "password = input(\"masukkan password: \")\n",
        "if password == \"kimia\" or password == \"cantik\":\n",
        "  print(\"silahkan masuk kelas\")\n",
        "else:\n",
        "  print(\"sono pergi sono wkwkwkwkwk\")"
      ],
      "metadata": {
        "id": "9gS4RdFnLx_u"
      },
      "execution_count": null,
      "outputs": []
    },
    {
      "cell_type": "markdown",
      "source": [
        "## Kondisi bersarang"
      ],
      "metadata": {
        "id": "FHT7_WRxMutt"
      }
    },
    {
      "cell_type": "code",
      "source": [
        "gender = input(\"masukkan jenis kelamin anda: \")\n",
        "usia = int(input(\"masukkan usia anda: \"))\n",
        "\n",
        "if gender == \"pria\" or gender == \"laki-laki\":\n",
        "  if usia>=25:\n",
        "    print(\"anda pria boleh menikah\")\n",
        "  else:\n",
        "    print(\"masih ingusan, sekolah dulu aja ya, kamu masih dibawah umur\")\n",
        "elif gender == \"wanita\" or gender == \"perempuan\":\n",
        "  if usia>=20:\n",
        "    print(\"anda wanita boleh menikah\")\n",
        "  else:\n",
        "    print(\"sekolah yang bener, kamu masih bocil\")\n",
        "else:\n",
        "  print(\"kamu gak jelas. hey kaum pelangi pergi dari dunia ini\")"
      ],
      "metadata": {
        "id": "pjxekjQ-MzEi"
      },
      "execution_count": null,
      "outputs": []
    },
    {
      "cell_type": "markdown",
      "source": [
        "### latihan\n"
      ],
      "metadata": {
        "id": "WgImOLH0OQoK"
      }
    },
    {
      "cell_type": "code",
      "source": [
        "# Program mengecek bilangan bulat positif, negatif atau nol\n",
        "bilangan = int(input(\"masukkan suatu angka bulat: \"))\n",
        "if bil > 0:\n",
        "    if bil % 2 == 0:\n",
        "        print(\"Angka {} bernilai Positif Genap\".format(bil))\n",
        "    else:\n",
        "        print(\"Angka {} bernilai Positif Ganjil\".format(bil))\n",
        "elif bil < 0:\n",
        "    if bil % 2 == 0:\n",
        "        print(\"Angka {} bernilai Negatif Genap\".format(bil))\n",
        "    else:\n",
        "        print(\"Angka {} bernilai Negatif Ganjil\".format(bil))\n",
        "else:\n",
        "    print(\"NOL\")"
      ],
      "metadata": {
        "id": "nFVZMzYtOR2m"
      },
      "execution_count": null,
      "outputs": []
    },
    {
      "cell_type": "markdown",
      "source": [
        "## Perulangan for\n",
        "perulangan for disebut juga perulangan terhitung (counted loof)"
      ],
      "metadata": {
        "id": "wki5NCkDOtOr"
      }
    },
    {
      "cell_type": "code",
      "source": [
        "for i in range(5):\n",
        "  print(f\"iterasi ke-{i}\")"
      ],
      "metadata": {
        "id": "hELgrFM8OyB6"
      },
      "execution_count": null,
      "outputs": []
    },
    {
      "cell_type": "code",
      "source": [
        "for i in range(5):\n",
        "  print(f\"iterasi ke-{i+1}\")"
      ],
      "metadata": {
        "id": "tCixVojgPR3N"
      },
      "execution_count": null,
      "outputs": []
    },
    {
      "cell_type": "code",
      "source": [
        "from re import I\n",
        "ikan = ['nemo','nila','paus','mujaer']\n",
        "for i in ikan:\n",
        "  print(i)"
      ],
      "metadata": {
        "id": "wIcxvr4UPWd9"
      },
      "execution_count": null,
      "outputs": []
    },
    {
      "cell_type": "code",
      "source": [
        "from re import I\n",
        "ikan = ('nemo','nila','paus','mujaer')\n",
        "for i in ikan:\n",
        "  print(i)"
      ],
      "metadata": {
        "id": "ZxaOpQ3lPinn"
      },
      "execution_count": null,
      "outputs": []
    },
    {
      "cell_type": "code",
      "source": [
        "from re import I\n",
        "ikan = {'nemo','nila','paus','mujaer'}\n",
        "for i in ikan:\n",
        "  print(i)"
      ],
      "metadata": {
        "id": "BdA9hhznPun_"
      },
      "execution_count": null,
      "outputs": []
    },
    {
      "cell_type": "code",
      "source": [
        "kata = 'python'\n",
        "for huruf in kata:\n",
        "  print(huruf)"
      ],
      "metadata": {
        "id": "KIW1tzC7PyoR"
      },
      "execution_count": null,
      "outputs": []
    },
    {
      "cell_type": "markdown",
      "source": [
        "## perulangan while\n",
        "Perulangan *while* digunakan untuk mengeksekusi blok kode selama kondisi yang diberikan bernilai True."
      ],
      "metadata": {
        "id": "s99kOuTLQJvp"
      }
    },
    {
      "cell_type": "code",
      "source": [
        "i = 1\n",
        "\n",
        "while i <= 5:\n",
        "    print(\"Angka ke-\", i)\n",
        "    i += 1"
      ],
      "metadata": {
        "id": "udTcFl6QP_xt"
      },
      "execution_count": null,
      "outputs": []
    },
    {
      "cell_type": "code",
      "source": [
        "angka = int(input(\"Masukkan angka (ketik 0 untuk berhenti): \"))\n",
        "\n",
        "while angka != 0:\n",
        "    print(\"Anda memasukkan:\", angka)\n",
        "    angka = int(input(\"Masukkan angka (ketik 0 untuk berhenti): \"))\n",
        "\n",
        "print(\"Program selesai.\")"
      ],
      "metadata": {
        "id": "OKJorOAGQt1S"
      },
      "execution_count": null,
      "outputs": []
    },
    {
      "cell_type": "code",
      "source": [
        "i = 1\n",
        "while i <= 10:\n",
        "    if i == 5:\n",
        "        print(\"Berhenti di angka\", i)\n",
        "        break\n",
        "    print(i)\n",
        "    i += 1"
      ],
      "metadata": {
        "id": "Uge-49M2Q40j"
      },
      "execution_count": null,
      "outputs": []
    },
    {
      "cell_type": "code",
      "source": [
        "i = 0\n",
        "while i <= 5:\n",
        "    i += 1\n",
        "    if i == 3:\n",
        "        print(\"Melewati angka\", i)\n",
        "        continue\n",
        "    print(i)"
      ],
      "metadata": {
        "id": "C1EdcGl5RAYL"
      },
      "execution_count": null,
      "outputs": []
    }
  ]
}
